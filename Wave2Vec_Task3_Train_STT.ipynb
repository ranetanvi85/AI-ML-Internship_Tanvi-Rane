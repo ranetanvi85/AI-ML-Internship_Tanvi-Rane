{
  "nbformat": 4,
  "nbformat_minor": 0,
  "metadata": {
    "colab": {
      "provenance": []
    },
    "kernelspec": {
      "name": "python3",
      "display_name": "Python 3"
    },
    "language_info": {
      "name": "python"
    }
  },
  "cells": [
    {
      "cell_type": "code",
      "execution_count": 1,
      "metadata": {
        "colab": {
          "base_uri": "https://localhost:8080/"
        },
        "id": "gwLR8xlujXvp",
        "outputId": "fff41c61-1683-491e-9ea8-f7b67beac0de"
      },
      "outputs": [
        {
          "output_type": "stream",
          "name": "stdout",
          "text": [
            "Requirement already satisfied: kaggle in /usr/local/lib/python3.10/dist-packages (1.6.17)\n",
            "Requirement already satisfied: six>=1.10 in /usr/local/lib/python3.10/dist-packages (from kaggle) (1.16.0)\n",
            "Requirement already satisfied: certifi>=2023.7.22 in /usr/local/lib/python3.10/dist-packages (from kaggle) (2024.8.30)\n",
            "Requirement already satisfied: python-dateutil in /usr/local/lib/python3.10/dist-packages (from kaggle) (2.8.2)\n",
            "Requirement already satisfied: requests in /usr/local/lib/python3.10/dist-packages (from kaggle) (2.32.3)\n",
            "Requirement already satisfied: tqdm in /usr/local/lib/python3.10/dist-packages (from kaggle) (4.66.5)\n",
            "Requirement already satisfied: python-slugify in /usr/local/lib/python3.10/dist-packages (from kaggle) (8.0.4)\n",
            "Requirement already satisfied: urllib3 in /usr/local/lib/python3.10/dist-packages (from kaggle) (2.2.3)\n",
            "Requirement already satisfied: bleach in /usr/local/lib/python3.10/dist-packages (from kaggle) (6.1.0)\n",
            "Requirement already satisfied: webencodings in /usr/local/lib/python3.10/dist-packages (from bleach->kaggle) (0.5.1)\n",
            "Requirement already satisfied: text-unidecode>=1.3 in /usr/local/lib/python3.10/dist-packages (from python-slugify->kaggle) (1.3)\n",
            "Requirement already satisfied: charset-normalizer<4,>=2 in /usr/local/lib/python3.10/dist-packages (from requests->kaggle) (3.4.0)\n",
            "Requirement already satisfied: idna<4,>=2.5 in /usr/local/lib/python3.10/dist-packages (from requests->kaggle) (3.10)\n"
          ]
        }
      ],
      "source": [
        "!pip install kaggle\n"
      ]
    },
    {
      "cell_type": "code",
      "source": [
        "!kaggle datasets download -d paultimothymooney/medical-speech-transcription-and-intent\n"
      ],
      "metadata": {
        "colab": {
          "base_uri": "https://localhost:8080/"
        },
        "id": "eSyV_hGtkVKt",
        "outputId": "af9d9341-7dfb-43da-a819-c43ef9a23f17"
      },
      "execution_count": 2,
      "outputs": [
        {
          "output_type": "stream",
          "name": "stdout",
          "text": [
            "Dataset URL: https://www.kaggle.com/datasets/paultimothymooney/medical-speech-transcription-and-intent\n",
            "License(s): other\n",
            "medical-speech-transcription-and-intent.zip: Skipping, found more recently modified local copy (use --force to force download)\n"
          ]
        }
      ]
    },
    {
      "cell_type": "markdown",
      "source": [
        "Ill be using this single audio file for now\n",
        "\n",
        "https://drive.google.com/file/d/1--smvc2WB5pldtYC4agLKfTLrKTTsJ71/view?usp=drive_link\n",
        "\n",
        "\n",
        "\n",
        "\n"
      ],
      "metadata": {
        "id": "qMOAtJUXnefn"
      }
    },
    {
      "cell_type": "code",
      "source": [
        "!pip install speechrecognition pydub gensim nltk"
      ],
      "metadata": {
        "id": "m2ax7eutjd_4",
        "colab": {
          "base_uri": "https://localhost:8080/"
        },
        "outputId": "49e24767-8153-4f18-d75a-8f5125289393"
      },
      "execution_count": 4,
      "outputs": [
        {
          "output_type": "stream",
          "name": "stdout",
          "text": [
            "Requirement already satisfied: speechrecognition in /usr/local/lib/python3.10/dist-packages (3.11.0)\n",
            "Requirement already satisfied: pydub in /usr/local/lib/python3.10/dist-packages (0.25.1)\n",
            "Requirement already satisfied: gensim in /usr/local/lib/python3.10/dist-packages (4.3.3)\n",
            "Requirement already satisfied: nltk in /usr/local/lib/python3.10/dist-packages (3.8.1)\n",
            "Requirement already satisfied: requests>=2.26.0 in /usr/local/lib/python3.10/dist-packages (from speechrecognition) (2.32.3)\n",
            "Requirement already satisfied: typing-extensions in /usr/local/lib/python3.10/dist-packages (from speechrecognition) (4.12.2)\n",
            "Requirement already satisfied: numpy<2.0,>=1.18.5 in /usr/local/lib/python3.10/dist-packages (from gensim) (1.26.4)\n",
            "Requirement already satisfied: scipy<1.14.0,>=1.7.0 in /usr/local/lib/python3.10/dist-packages (from gensim) (1.13.1)\n",
            "Requirement already satisfied: smart-open>=1.8.1 in /usr/local/lib/python3.10/dist-packages (from gensim) (7.0.5)\n",
            "Requirement already satisfied: click in /usr/local/lib/python3.10/dist-packages (from nltk) (8.1.7)\n",
            "Requirement already satisfied: joblib in /usr/local/lib/python3.10/dist-packages (from nltk) (1.4.2)\n",
            "Requirement already satisfied: regex>=2021.8.3 in /usr/local/lib/python3.10/dist-packages (from nltk) (2024.9.11)\n",
            "Requirement already satisfied: tqdm in /usr/local/lib/python3.10/dist-packages (from nltk) (4.66.5)\n",
            "Requirement already satisfied: charset-normalizer<4,>=2 in /usr/local/lib/python3.10/dist-packages (from requests>=2.26.0->speechrecognition) (3.4.0)\n",
            "Requirement already satisfied: idna<4,>=2.5 in /usr/local/lib/python3.10/dist-packages (from requests>=2.26.0->speechrecognition) (3.10)\n",
            "Requirement already satisfied: urllib3<3,>=1.21.1 in /usr/local/lib/python3.10/dist-packages (from requests>=2.26.0->speechrecognition) (2.2.3)\n",
            "Requirement already satisfied: certifi>=2017.4.17 in /usr/local/lib/python3.10/dist-packages (from requests>=2.26.0->speechrecognition) (2024.8.30)\n",
            "Requirement already satisfied: wrapt in /usr/local/lib/python3.10/dist-packages (from smart-open>=1.8.1->gensim) (1.16.0)\n"
          ]
        }
      ]
    },
    {
      "cell_type": "code",
      "source": [
        "import speech_recognition as sr\n",
        "\n",
        "# Function to convert audio to text\n",
        "def audio_to_text(audio_file):\n",
        "    # Initialize the recognizer\n",
        "    recognizer = sr.Recognizer()\n",
        "\n",
        "    # Load the audio file\n",
        "    with sr.AudioFile(audio_file) as source:\n",
        "        # Record the audio\n",
        "        audio_data = recognizer.record(source)\n",
        "        try:\n",
        "            # Use Google Web Speech API to transcribe the audio\n",
        "            text = recognizer.recognize_google(audio_data)\n",
        "            return text\n",
        "        except sr.UnknownValueError:\n",
        "            print(\"Google Speech Recognition could not understand audio.\")\n",
        "            return \"\"\n",
        "        except sr.RequestError:\n",
        "            print(\"Could not request results from Google Speech Recognition service.\")\n",
        "            return \"\"\n"
      ],
      "metadata": {
        "id": "Lbi1hoHDjeCS"
      },
      "execution_count": 5,
      "outputs": []
    },
    {
      "cell_type": "code",
      "source": [
        "from gensim.models import Word2Vec\n",
        "from nltk.tokenize import word_tokenize\n",
        "\n",
        "# Function to train a Word2Vec model on the text\n",
        "def train_word2vec(text):\n",
        "    # Tokenize the text into words\n",
        "    tokens = word_tokenize(text.lower())  # Convert to lowercase for consistency\n",
        "    # Create a Word2Vec model\n",
        "    model = Word2Vec([tokens], vector_size=100, window=5, min_count=1, workers=4)\n",
        "    return model\n"
      ],
      "metadata": {
        "id": "svlnwecyoCQv"
      },
      "execution_count": 6,
      "outputs": []
    },
    {
      "cell_type": "code",
      "source": [
        "import nltk\n",
        "nltk.download('punkt')"
      ],
      "metadata": {
        "colab": {
          "base_uri": "https://localhost:8080/"
        },
        "id": "_P3Tf3lyoyCP",
        "outputId": "8e47916a-40df-40e8-e8d4-a0ac5caaf308"
      },
      "execution_count": 7,
      "outputs": [
        {
          "output_type": "stream",
          "name": "stderr",
          "text": [
            "[nltk_data] Downloading package punkt to /root/nltk_data...\n",
            "[nltk_data]   Package punkt is already up-to-date!\n"
          ]
        },
        {
          "output_type": "execute_result",
          "data": {
            "text/plain": [
              "True"
            ]
          },
          "metadata": {},
          "execution_count": 7
        }
      ]
    },
    {
      "cell_type": "code",
      "source": [
        "# Function to train a Word2Vec model on the text\n",
        "def train_word2vec(text):\n",
        "    tokens = word_tokenize(text.lower())\n",
        "    model = Word2Vec([tokens], vector_size=100, window=5, min_count=1, workers=4)\n",
        "    return model\n",
        "\n",
        "# Main execution\n",
        "if __name__ == \"__main__\":\n",
        "    audio_file_path = \"1249120_44142156_100535941.wav\"  # Change this to your audio file path\n",
        "\n",
        "    # Convert audio to text\n",
        "    transcribed_text = audio_to_text(audio_file_path)\n",
        "    print(f\"Transcribed Text: {transcribed_text}\")\n",
        "\n",
        "    if transcribed_text:\n",
        "        # Train Word2Vec model\n",
        "        word2vec_model = train_word2vec(transcribed_text)\n",
        "\n",
        "        # Get vector for a user-defined word\n",
        "        word = input(\"Enter the word to get its vector: \")  # User inputs the word\n",
        "        if word in word2vec_model.wv:\n",
        "            vector = word2vec_model.wv[word]\n",
        "            print(f\"Vector for '{word}': {vector}\")\n",
        "        else:\n",
        "            print(f\"'{word}' not in vocabulary.\")"
      ],
      "metadata": {
        "colab": {
          "base_uri": "https://localhost:8080/"
        },
        "id": "7gKo8QU4oEZI",
        "outputId": "96a18f0c-342c-4a39-ab0e-64991c52efbf"
      },
      "execution_count": 8,
      "outputs": [
        {
          "output_type": "stream",
          "name": "stdout",
          "text": [
            "Transcribed Text: I have some terrible problems when I am dating during the night\n",
            "Enter the word to get its vector: during\n",
            "Vector for 'during': [-8.2426779e-03  9.2993546e-03 -1.9766092e-04 -1.9672764e-03\n",
            "  4.6036304e-03 -4.0953159e-03  2.7431143e-03  6.9399667e-03\n",
            "  6.0654259e-03 -7.5107943e-03  9.3823504e-03  4.6718083e-03\n",
            "  3.9661205e-03 -6.2435055e-03  8.4599797e-03 -2.1501649e-03\n",
            "  8.8251876e-03 -5.3620026e-03 -8.1294188e-03  6.8245591e-03\n",
            "  1.6711927e-03 -2.1985089e-03  9.5136007e-03  9.4938548e-03\n",
            " -9.7740470e-03  2.5052286e-03  6.1566923e-03  3.8724565e-03\n",
            "  2.0227872e-03  4.3050171e-04  6.7363144e-04 -3.8206363e-03\n",
            " -7.1402504e-03 -2.0888723e-03  3.9238976e-03  8.8186832e-03\n",
            "  9.2591504e-03 -5.9759365e-03 -9.4026709e-03  9.7643770e-03\n",
            "  3.4297847e-03  5.1661171e-03  6.2823449e-03 -2.8042626e-03\n",
            "  7.3227035e-03  2.8302716e-03  2.8710044e-03 -2.3803699e-03\n",
            " -3.1282497e-03 -2.3701417e-03  4.2764368e-03  7.6057913e-05\n",
            " -9.5842788e-03 -9.6655441e-03 -6.1481940e-03 -1.2856961e-04\n",
            "  1.9974159e-03  9.4319675e-03  5.5843508e-03 -4.2906962e-03\n",
            "  2.7831673e-04  4.9643586e-03  7.6983096e-03 -1.1442233e-03\n",
            "  4.3234206e-03 -5.8143795e-03 -8.0419064e-04  8.1000505e-03\n",
            " -2.3600650e-03 -9.6634552e-03  5.7792603e-03 -3.9298222e-03\n",
            " -1.2228728e-03  9.9805174e-03 -2.2563506e-03 -4.7570644e-03\n",
            " -5.3293873e-03  6.9808899e-03 -5.7088719e-03  2.1136629e-03\n",
            " -5.2556600e-03  6.1207139e-03  4.3573068e-03  2.6063549e-03\n",
            " -1.4910829e-03 -2.7460635e-03  8.9929365e-03  5.2157748e-03\n",
            " -2.1625196e-03 -9.4703101e-03 -7.4260519e-03 -1.0637414e-03\n",
            " -7.9494715e-04 -2.5629092e-03  9.6827205e-03 -4.5852066e-04\n",
            "  5.8737611e-03 -7.4475873e-03 -2.5060738e-03 -5.5498634e-03]\n"
          ]
        }
      ]
    },
    {
      "cell_type": "code",
      "source": [
        "# Assuming `word2vec_model` is your trained Word2Vec model from the previous cell\n",
        "word = input(\"Enter a word to find similar words: \")\n",
        "\n",
        "if word in word2vec_model.wv:\n",
        "    similar_words = word2vec_model.wv.most_similar(word, topn=5)\n",
        "    print(f\"Similar words to '{word}':\")\n",
        "    for similar_word, similarity in similar_words:\n",
        "        print(f\"{similar_word}: {similarity:.4f}\")\n",
        "else:\n",
        "    print(f\"'{word}' not in vocabulary.\")"
      ],
      "metadata": {
        "colab": {
          "base_uri": "https://localhost:8080/"
        },
        "id": "Zln8N8MjoETV",
        "outputId": "a950e8d7-bdd6-4a6b-bed1-886b18a1c262"
      },
      "execution_count": 9,
      "outputs": [
        {
          "output_type": "stream",
          "name": "stdout",
          "text": [
            "Enter a word to find similar words: during\n",
            "Similar words to 'during':\n",
            "am: 0.1315\n",
            "terrible: 0.0750\n",
            "night: 0.0680\n",
            "when: 0.0416\n",
            "have: 0.0130\n"
          ]
        }
      ]
    },
    {
      "cell_type": "markdown",
      "source": [
        "Now using train folder"
      ],
      "metadata": {
        "id": "kL9JodjvCEzP"
      }
    },
    {
      "cell_type": "code",
      "source": [
        "# Function to train a Word2Vec model on the text\n",
        "def train_word2vec(text):\n",
        "    tokens = word_tokenize(text.lower())\n",
        "    model = Word2Vec([tokens], vector_size=100, window=5, min_count=1, workers=4)\n",
        "    return model"
      ],
      "metadata": {
        "id": "45EtbP5vCIaf"
      },
      "execution_count": 10,
      "outputs": []
    },
    {
      "cell_type": "code",
      "source": [
        "import os"
      ],
      "metadata": {
        "id": "6o4wy3VGDM-j"
      },
      "execution_count": 11,
      "outputs": []
    },
    {
      "cell_type": "code",
      "source": [
        "# Function to transcribe all audio files in a directory and aggregate text\n",
        "def transcribe_all_audio_in_directory(directory):\n",
        "    all_transcribed_text = []\n",
        "    for filename in os.listdir(directory):\n",
        "        if filename.endswith(\".wav\"):  # Process only .wav files\n",
        "            audio_file_path = os.path.join(directory, filename)\n",
        "            transcribed_text = audio_to_text(audio_file_path)\n",
        "            if transcribed_text:\n",
        "                all_transcribed_text.append(transcribed_text)\n",
        "    return \" \".join(all_transcribed_text)  # Join all transcriptions into one text"
      ],
      "metadata": {
        "id": "6ylnOBbGCI-L"
      },
      "execution_count": 12,
      "outputs": []
    },
    {
      "cell_type": "code",
      "source": [
        "# Main execution\n",
        "if __name__ == \"__main__\":\n",
        "    train_directory = \"Medical Speech, Transcription, and Intent/recordings/train\"  # Folder containing your training audio files\n",
        "\n",
        "    # Convert all audio files to text\n",
        "    aggregated_transcribed_text = transcribe_all_audio_in_directory(train_directory)\n",
        "    print(f\"Aggregated Transcribed Text: {aggregated_transcribed_text}\")\n",
        "\n",
        "    if aggregated_transcribed_text:\n",
        "        # Train Word2Vec model on the aggregated text\n",
        "        word2vec_model = train_word2vec(aggregated_transcribed_text)\n",
        "\n",
        "        # Check vocabulary size for a simple accuracy metric\n",
        "        vocabulary_size = len(word2vec_model.wv)\n",
        "        print(f\"Vocabulary Size: {vocabulary_size}\")\n",
        "\n",
        "        # Get vector for a user-defined word\n",
        "        word = input(\"Enter the word to get its vector: \")\n",
        "        if word in word2vec_model.wv:\n",
        "            vector = word2vec_model.wv[word]\n",
        "            print(f\"Vector for '{word}': {vector}\")\n",
        "        else:\n",
        "            print(f\"'{word}' not in vocabulary.\")\n",
        "\n",
        "        # Find similar words\n",
        "        similar_word = input(\"Enter a word to find similar words: \")\n",
        "        if similar_word in word2vec_model.wv:\n",
        "            similar_words = word2vec_model.wv.most_similar(similar_word, topn=5)\n",
        "            print(f\"Similar words to '{similar_word}':\")\n",
        "            for similar_word, similarity in similar_words:\n",
        "                print(f\"{similar_word}: {similarity:.4f}\")\n",
        "        else:\n",
        "            print(f\"'{similar_word}' not in vocabulary.\")"
      ],
      "metadata": {
        "colab": {
          "base_uri": "https://localhost:8080/"
        },
        "id": "RTUDqA3BCI7z",
        "outputId": "684e195d-dd7a-499f-a328-012ab9e47271"
      },
      "execution_count": 13,
      "outputs": [
        {
          "output_type": "stream",
          "name": "stdout",
          "text": [
            "Google Speech Recognition could not understand audio.\n",
            "Google Speech Recognition could not understand audio.\n",
            "Google Speech Recognition could not understand audio.\n",
            "Aggregated Transcribed Text: my son squeezed a pimple and it broke open only to scab over and now looks like it is infected I have front head pain and when I get it the light bothers my hand open wound got infected my calves feel like they are tight as nuts and are throbbing when get up I found that I have a stomach ache and I tried to take medicine but my stomach still hurting me I feel pain in my neck my left side aches much can keep Focus I am having a hard time hearing my skin is very dry my husband has a spot on his lip that he thought was cold sore but now it has broken open and leaks fluid all day when I eat sugar I noticed my vision blurs why is my shoulder aching when I try to pick up the laundry I think there's food in my my mind feels very sad as if it hurts the way I feel in my head is Apple and when I think about my breakup I cry with sadness when I walk up a flight of stairs my right knee hurts after a breakup I feel something strange in me I have pain in my chest that saddens me extra as a 10-minutes but today the paint throbbing and unbearable I was diagnosed with B12 deficiency anemia which explains why I always felt cold redness swelling and difficulty walking I had an accident and my wound was open when I arrived to hospital my coach is very heavy and I have Marcos I got acne when I ate chili even if the temperature is high in the house my body is always cold my daughter had her eyebrows threaded and it pulled an opening of skin in one of her brows that is now puffy and oozing my knee swell right below the kneecap and hurt when I put weight on them I feel joint pain every time I move I have a problem and the expiration because I have a bronchial asthma I have a card that is red and Salon when I stand up too quickly I feel as though I am going to faint I have constant stomach pain and bloating my infected wound cost a fever my foot hurts and I can't turn it maybe it's severe pain in the upper left side of chest and may have pain to back I have eruptions on my face that come and go I feel something hurt me in taking breath and I can't take my breath my head hurts and I lost the sensation in my face then lost sight in my eye I don't have full range of motion with my arms my won't open it up again my shoulder has a great pain I have a hard muscle pain since I went to the gym laceration rupture are opening in the skin play stand up too quickly I start to feel dizzy and lightheaded I feel a pain in my back when I sit on a chair for a long I have a dog named in my stomach it gets worse after I eat I have pain in my chest that sad my shower drain is full of hair every time I was traveling by ship and I feel dizzy when I move on my shoulder pain shoots down my arm I have a pain internal I have a mental suffering it teaches inside my ears I have a heart pain every single day my right shoulder clicks when I move my arm my ear hurts when I touch it anytime I play tennis I feel a shoulder pain it feels like someone stuck a knife into my shoulder I can't turn my neck to the left without feeling a stamping when I eat too much sugar my body gets weak and dies I had a collision while playing soccer my knee buckled and now its unstable my heart feels like it's going to explode I have terrible pain in my heart I have a powerful pain inside my neck my entire body is freezing my muscles in my lower back are aching I tried to put my glasses to see more clear but can't find any change there are some pimples on my face that bother me a lot my head hurts in the back and the pain lasts all day I hate myself and the good doesn't want to I'm not good I'm feeling so cold I have muscle pain in my left leg is my Cotton Factory or just have I stepped on a needle it wouldn't have heard so much like this damn spur in my he my stomach has been sore since yesterday my shoulder is hurting me I feel very hard to breathe chronic disease of hair follicles and sebaceous glands I feel great pain in my feet after playing one of the sports games when I left my arms up I have a soreness in my shoulders I feel like the room is spinning my left side aches I feel a great pain in my shoulder when I try to lift something heavy I feel like I want I went to an acupuncturist practice and at 100 needles in my shoulder when I get up I see my knees when I stand up to pick my vision is blur my knee seem to grind as I go up on downstairs I think I sprained my ankle it really hurt I have the impression of having no strength in my I feel a soreness in my knees when I walk I have a pain in my head I used to be out of breath after going up a dozen of stairs but now I struggle to breathe even when I sit down my head hurts whenever I try to do something my chest acne breaks out and never clears up I think there's fluid in my can't do any exercise I feel weak I am always cold even when I am wearing layers when I think of my parents I feel pain I feel pain in my back are you stupid or because I get insurance from stiffness and ability to look right or left except by moving the whole body my lower back hurts but it improves if I stretch it below my left shoulder when I'm driving my eyes seeing double I feel great pressure in my chest something dark is there on my my husband left me from another woman my heart hurts so badly to the point I can't my soul is not healing well and it's been like this for 2 weeks it is like I have a needle pushing through my heart my knee doesn't want to bend well when I get out of bed in the morning my body feels very weak when I force my eyes to you I have blurry vision is there a lot of fear on my pill I got injured exercising there is so much pain when I move my arm the severe pain in the stomach I feel I hit my head at the basketball game could I have a concussion I feel dizzy when I sit in front of my laptop for an hour or two what possibly could be the reason I fell through a window while I was cleaning it and I have a Shard of glass stuck in my left eye I think it is pretty serious please help even though I am adult my Facebook keeps breaking out in pimples I can't get over no matter how much I rap for how I I put the they are swelling in my neck and in the morning my respiration is when my grandfather died I felt a hard emotional pain go to sleep there is a sharp pain in my bicep I have a great stomach ache and I can't eat anything the wound is still open I'm injured I can't play sports when I sneeze very hard I feel earache I have a cut on my foot that became infected from using the showers at the gym I can hardly move my neck it hurts there feels like a swollen knot at my shoulder blade with pain showing from that I can't stand with this horrible feeling in my my head is coming out in chunks especially when there is a tingling sensation in my neck my hair is falling out in my stomach feels full and upset and floating after I feel pain in my truck I don't have problems taking in breath but out breath is so heavy my head is coming out in chunks especially when I wash it I have a headache every time I eat ice cream I'm having a hard time when I force my eyes to view I have blurry vision my stomach aches when I eat hot food why my hair is falling out after I take a shower the song scar on my laptop is from falling off my mountain bike I feel pain in my knee it is like I have a needle pushing through my heart pain it feels like it's right below the skin I feel deep singing when I touch forward by Bob sensation I have a sharp pain in my abdomen I feel like clicking sensation in my knee each time I step my shoulder hurts when I try to reach something about my head I'm feeling nauseous I feel a pain in my back when I sit on a chair for long I don't know why I feel cold my entire body is freezing my knee doesn't want to bend my stomach feels full and offset and bloating after big meals I have whooping cough with excess glucose Meat Market the warming system of my house is broken and feel so cold severe pain in the stomach something dark is there on my arm I feel so very interesting in the skin with redness my knees well right below the kneecap and hurt when I put weight on them when I play sports I have some burning sensation in my everytime I look to the left of the sharp pain it's hard to stand up and I'm moving very slowly stiffness and ability to look right or left except by moving the whole body I feel really sad all the time when I was washing my hair it was falling out heavily I have an earache that won't go away I don't have a cold or headache or any other symptoms just an earache I have a neck pain when I sit in front of my laptop my ear is ringing I cannot get one no matter how much I work up or how high I put the heating on my head hurts in the back and the pain last I have a shopping in my every time I comb my hair there are so many hair in my tongue 18 there is something wrong with my wound it doesn't seem to heal like it should the nerves are so damaged during the operation of my ankle that I cannot stand being touched on this car redness swelling and difficulty walking discomfort or pain that is felt at some point along the front of the body between the neck and upper abdomen I can see well it feels like my heart is going to leave out of my body it hurt I had a lot of exercise yesterday so I feel sharp muscle pains there's this pain that radiates to my chest up to my left arm my back hurts me and I can't bend it or walk I can't do anything I feel awake in my I can't ride my car at night because I have blurry vision I have cloudy eyes I will be in that radiates up from my right hip to my rib cage it is that it was when I 78 too much sugar my body gets weak and I feel weak all over my heart hurts when I exercise 80 inches inside my ass my ear ache when I am listening to music I am not sure yet the area around my heart doesn't feel good I read a book for a long time and when I finished reading I feel headache my knee feels weak and it gave away the other day at the top of the stairs luckily there was a real to hold on to in the morning my respiration is I can't stand up or sit down I have a pain in my back that annoys me I have a painful cramp in my feet I have a hard muscle pain since I went to the gym fell skull is cracked like nuts I get a heavy bag yesterday and when I get up today I felt a great shoulder pain there is pain in the muscles I do not know cause I need a kind of cream which make my muscles more relaxed I have a pain that radiates up from my right hip to my rib cage it is at its worst when I urinate I can't hear out of my ear properly I feel like there is something in it causing irritation I feel a pain on the left side of my chest where my heart is there is a sharp pain in my bicep I have tried to apply pain relief cream but it is not help using hair tonic I get clusters of whiteheads and blackheads on my back my face is all broken out with pimples I have a rash and it is very bad I have a pain in my head I have shooting pains up and down my Mysore looks like I'm not eat my head is spinning when I get up my knee is hurting so I have muscle pain at my left leg I feel like my heart is on fire I have a dollar in my lower back which makes it difficult when I am doing sport I have pain under my skin my foot hurts and I can't turn it maybe it's broken I have some pain when I'm walking around my heart feels like it's going to explode play when I'm driving my ICS in Google I was traveling by ship and I feel dizzy I have a problem in my back I can't extend it sometimes I feel like a claw on my chest that leaves me Breathless my head hurts when I'm doing this I have a sharp pain in my hair I have an earache when a shower I have internal pain whenever I come down with a cold I was very active in sports but now my body is feeling I have a rash and eat itches very bad I have constant stomach pain and bloating my knee is hurting so badly when I play football I have muscle pain there is a sharp pain in my bicep I have tried to play pain relief cream but it does not help it feels like my heart is going to leak out of my body I have a very rough sensation close to my I often get a sharp pain in my chest and I can't tell what I'm doing that might be triggering it is pimples a skin disease when I try to be warm and with more clothes I found that I was when I played football I dislocated my shoulder when I work in the morning I feel strange and have a party Mr Riyadh is falling out just by combing it I hit my head at the basketball game could I have a con I had a pain in my knee when I was swimming I'm having problems seeing things feel like a cloud on my eyes everything is blurry my ear hurts and it's worse when I swallow my ear is very painful and Tylenol hasn't helped I feel a sharp pain in my stomach my shoulder hurts me so much I have a cut that is red and I feel pain when parting loved ones may I please really embarrassing it's sorry I cut myself and I'm ble when I carry heavy things I feel like breaking my back I haven't done it in my lower back which makes it difficult to move I get tired too fast I can barely put on my clothes in the morning I have a sharp pain in my lower the pain is intense especially when I go down the stairs it feels like something has snapped inside my knee my acne it's an my knee feels weak and it came with the other day at the top of the story of luckily there was a real to hold I feel like I just can't cook anymore I feel overwhelmed and like I just can't get a break my left ear is okay but the right one feels like it's being stabbed with a nail I feel a pain in my neck my hair is falling out in bunches when I played football I dislocated my shoulder when I eat sugar I noticed my vision I have a pain in my trapeze after eating I have burning sensation inside of I have some terrible problems when I am breathing during the night my husband left me for another woman my heart hurts so badly to the point I can't eat or sleep my shoulder muscle hurts when I try to reach up I wake up at night feeling cold my chest hurts when I smoke I cannot breathe because of this dull ache below my left shoulder my heart is beating fast and it scares me I lose a lot of my hair my hair is falling without a reason I can see a lot of hair on my working desk I feel pain in my body I chopped off the tip of my finger while I was cutting some cardboard and I cannot stop the bleeding my knee hurts when I walk my abdominal muscles have great pain since I was a gym even if the temperature is high in the house my body is always I love to walk and be outside but the bottoms of my feet get sore so quickly my heart is pumping fast and I am having a hard time to breathe I have a lot of knee pain whenever I go running I had a cold the last time I travel by plane and I still have a discomfort in my ears when I play sports I have some burning sensation in my the knee feels like it is Rusted and I suddenly cannot bend it anymore I get chills and necklace hello I am Chauhan I got acne when I ate chili I started taking swimming lessons and I guess I swallowed too much water through my nose because this sinuses is killing me now itch at front and center of scalp I had a lot of exercise yesterday so I feel sharp muscle pains I have cloudy eyes when I play football I have my hair is falling out just by combing it is my cat infected or just my head hurts when I'm doing this my daughter had her eyebrows threaded and it pulled an opening of skin and one of her brows that is now puffy and oozing my skin is itchy and inflamed I feel joint pain every time I move my abdominal muscles have great pain since I was at gym I can hardly move my neck it hurt I feel really sad all the time there is an extreme pressure below my belly button at the right which I feel every time I go out for a jog I cut my finger opening a can it won't stop bleeding and the wound is getting and open my lungs feel heavy like they are filled with mucus I have dark spot on my skin feels like there are pins and needles sticking my joints what is pain in the muscles I do not know I have pain but I can't specify place what's the symptoms of appendicitis I have a back pain since I fell on the floor I have pain but I can specify please I have cut my finger because the plain football and I to apply pain relief cream but it does not help I often get a sharp pain in my chest and I can't tell what I'm doing that might be triggering it I feel a burning sensation in my guts about 2 hours after each meal after playing tennis I had a powerful sensation close to my I feel pain after an investigation I think my want is infected data lots of yards on my pillow in the morning my lower back hurts but it improves if I stretch my acne is really embarrassing it's I have a blurry vision and I can't see in the darkness what is the reason doctor I have a shopping in my I have a scab on the back of my hand that just won't go my body feels weak and I think that my face is fade and I can't sleep well after playing tennis I had a powerful sensation close to my neck turn off my phone and it really there is a tingling sensation in my I get chills and it's all over I have some terrible problems when I am dating during the night I can't really jump on my left foot because my triple fracture of the ankle left me with never-ending pains I have a neck pain when I sit in front of my laptop my ear hurts me badly I have disturbance and my emotion I feel muscle pain every time I make an extra effort I have a great pain in my thorax from heart injury when I'm doing sport I have pain under my there is a red stain in my skin I have a pain in my elbow joint I have a great stomach ache and I can't eat anything the area around my heart doesn't feel good when I extend my leg there is pain in knee joint I can't hardly breathe it I am always colder than I am wearing lay I feel a pain on the left side of my chest where my heart is yesterday I had a shower pain I do not know why I feel cold there is acne on my face I have injured myself during the soccer match I can't hear out of my ear properly I feel like there is something in its cause irritation surgical wood infection are you not going to buy food and it really hurts when I wake up I am feeling cold I can't stand up I feel my brain is moving inside my skull even though I am an adult my face keeps breaking out in pimples I have severe shoulder pain I had a cut that was Peach together but it is not healing it is oozing green pus and buns my neck hurts me and I can't stand with this pain I have General discomfort on my torso I have been over my cold for weeks but still cough everyday the nerves were so damaged during the operation on my ankle that I cannot stand being touched on the scar after I'm hard working day I have put a I was diagnosed with pneumonia I can't breathe easily when I'm tired I feel my I fell off my bike and since then I had hard knee pain I have this strange rash on my arm Mysore looks like it's not healing well I feel pain in my head with a vertigo\n",
            "Vocabulary Size: 747\n",
            "Enter the word to get its vector: pimple\n",
            "Vector for 'pimple': [-7.6720421e-03 -5.4503740e-03 -5.9687188e-03 -4.0463242e-03\n",
            "  2.0726789e-03 -1.1172568e-02  7.0445053e-03  1.0683494e-02\n",
            " -6.9619343e-03 -1.0203476e-02 -2.1083222e-03 -5.8348184e-03\n",
            " -1.1591101e-03  2.0387387e-03  9.3523655e-03 -7.3804082e-03\n",
            " -8.0658014e-05 -7.8137768e-03 -3.4592575e-03  2.4827248e-03\n",
            "  3.5736295e-03  5.6841392e-03  4.1629048e-03  4.5738900e-03\n",
            " -1.3756633e-03  8.5866108e-05 -4.9471292e-03 -4.7484841e-03\n",
            "  4.1391319e-03 -7.0403214e-03 -4.9636676e-03  9.1532730e-03\n",
            " -2.5713707e-03 -1.0294377e-02 -2.6578493e-03  7.1908468e-03\n",
            " -4.8199625e-04  6.4126360e-03  3.4601656e-03  3.2647741e-03\n",
            " -6.0392935e-03 -2.9291639e-03  6.9675280e-04 -9.1989031e-03\n",
            "  4.6222196e-03 -3.6340102e-03  3.6271184e-03 -1.0599140e-03\n",
            "  6.6878102e-03  1.5715550e-03 -5.0280914e-03  4.8253112e-03\n",
            " -5.1349150e-03 -2.2935565e-03 -1.2546600e-03  3.8840112e-03\n",
            " -1.9510505e-03 -2.6346226e-03 -7.1500372e-03  6.4750421e-03\n",
            "  1.1497377e-03  1.0624134e-03  4.8040859e-03 -1.9990092e-03\n",
            " -5.1731090e-03  9.7484840e-03  3.9958279e-03  6.2554190e-03\n",
            "  7.7434089e-03  1.0410920e-02  1.7558188e-03  5.9576728e-03\n",
            " -4.7813528e-03  3.8188831e-05  4.9856055e-04 -4.4855881e-03\n",
            " -3.1385638e-03  6.9426671e-03  4.1829897e-03  8.6163916e-03\n",
            " -4.4713030e-03  2.1700715e-03  7.4554137e-03 -5.1540881e-03\n",
            " -2.5476173e-03  5.3358180e-03  5.7590283e-03  4.2068195e-03\n",
            " -2.4529171e-04  8.9035248e-03 -3.4551639e-03 -5.2505094e-03\n",
            "  4.2496137e-03  1.8954912e-03  3.2722773e-03 -6.4086338e-04\n",
            " -8.3727222e-03 -4.0790937e-03  7.5882685e-04  1.1740669e-03]\n",
            "Enter a word to find similar words: diagnosed\n",
            "Similar words to 'diagnosed':\n",
            "heart: 0.6577\n",
            "knee: 0.6519\n",
            "my: 0.6398\n",
            "every: 0.6344\n",
            "up: 0.6340\n"
          ]
        }
      ]
    },
    {
      "cell_type": "code",
      "source": [
        "from sklearn.model_selection import train_test_split\n",
        "from sklearn.linear_model import LogisticRegression\n",
        "from sklearn.metrics import accuracy_score\n",
        "import numpy as np"
      ],
      "metadata": {
        "id": "MHm7CGxaCI5c"
      },
      "execution_count": 14,
      "outputs": []
    },
    {
      "cell_type": "code",
      "source": [
        "import speech_recognition as sr\n",
        "from gensim.models import Word2Vec\n",
        "from nltk.tokenize import word_tokenize\n",
        "import nltk"
      ],
      "metadata": {
        "id": "11gvpDaQCI1s"
      },
      "execution_count": 15,
      "outputs": []
    },
    {
      "cell_type": "code",
      "source": [
        "# Download necessary NLTK resources\n",
        "nltk.download('punkt')"
      ],
      "metadata": {
        "colab": {
          "base_uri": "https://localhost:8080/"
        },
        "id": "6_eocI8tCIzE",
        "outputId": "855e3b2d-baa9-4704-91b4-38a387a1fc7b"
      },
      "execution_count": 16,
      "outputs": [
        {
          "output_type": "stream",
          "name": "stderr",
          "text": [
            "[nltk_data] Downloading package punkt to /root/nltk_data...\n",
            "[nltk_data]   Package punkt is already up-to-date!\n"
          ]
        },
        {
          "output_type": "execute_result",
          "data": {
            "text/plain": [
              "True"
            ]
          },
          "metadata": {},
          "execution_count": 16
        }
      ]
    },
    {
      "cell_type": "code",
      "source": [
        "!pip install pydub gensim"
      ],
      "metadata": {
        "colab": {
          "base_uri": "https://localhost:8080/"
        },
        "id": "FJ9EHxv9FWbL",
        "outputId": "66635cfc-a19b-4d7f-d3d5-b3dd5580678f"
      },
      "execution_count": 17,
      "outputs": [
        {
          "output_type": "stream",
          "name": "stdout",
          "text": [
            "Requirement already satisfied: pydub in /usr/local/lib/python3.10/dist-packages (0.25.1)\n",
            "Requirement already satisfied: gensim in /usr/local/lib/python3.10/dist-packages (4.3.3)\n",
            "Requirement already satisfied: numpy<2.0,>=1.18.5 in /usr/local/lib/python3.10/dist-packages (from gensim) (1.26.4)\n",
            "Requirement already satisfied: scipy<1.14.0,>=1.7.0 in /usr/local/lib/python3.10/dist-packages (from gensim) (1.13.1)\n",
            "Requirement already satisfied: smart-open>=1.8.1 in /usr/local/lib/python3.10/dist-packages (from gensim) (7.0.5)\n",
            "Requirement already satisfied: wrapt in /usr/local/lib/python3.10/dist-packages (from smart-open>=1.8.1->gensim) (1.16.0)\n"
          ]
        }
      ]
    },
    {
      "cell_type": "code",
      "source": [
        "# Function to convert audio to text\n",
        "def audio_to_text(audio_file):\n",
        "    recognizer = sr.Recognizer()\n",
        "    with sr.AudioFile(audio_file) as source:\n",
        "        audio_data = recognizer.record(source)\n",
        "        try:\n",
        "            text = recognizer.recognize_google(audio_data)\n",
        "            return text\n",
        "        except sr.UnknownValueError:\n",
        "            print(f\"Could not understand audio in {audio_file}.\")\n",
        "            return \"\"\n",
        "        except sr.RequestError:\n",
        "            print(f\"Could not request results from Google Speech Recognition service for {audio_file}.\")\n",
        "            return \"\""
      ],
      "metadata": {
        "id": "4fO6LItOFWWz"
      },
      "execution_count": 18,
      "outputs": []
    },
    {
      "cell_type": "code",
      "source": [
        "# Function to convert all audio files in a directory to text\n",
        "def transcribe_all_audio_in_directory(directory):\n",
        "    aggregated_text = []\n",
        "    for filename in os.listdir(directory):\n",
        "        if filename.endswith(\".wav\"):  # Assuming audio files are in .wav format\n",
        "            file_path = os.path.join(directory, filename)\n",
        "            text = audio_to_text(file_path)\n",
        "            if text:  # Only add non-empty transcriptions\n",
        "                aggregated_text.append(text)\n",
        "    return aggregated_text\n"
      ],
      "metadata": {
        "id": "d-pYM7gKFnPZ"
      },
      "execution_count": 19,
      "outputs": []
    },
    {
      "cell_type": "code",
      "source": [
        "# Function to train a Word2Vec model on the text\n",
        "def train_word2vec(texts):  # Change parameter name to 'texts'\n",
        "    all_tokens = []\n",
        "    for text in texts:  # Iterate through the list of texts\n",
        "        tokens = word_tokenize(text.lower())  # Tokenize and lowercase each text\n",
        "        all_tokens.extend(tokens)  # Add tokens to the overall list\n",
        "    model = Word2Vec([all_tokens], vector_size=100, window=5, min_count=1, workers=4)\n",
        "    return model"
      ],
      "metadata": {
        "id": "8b18iAsgFnMd"
      },
      "execution_count": 20,
      "outputs": []
    },
    {
      "cell_type": "code",
      "source": [
        "# Function to create features using Word2Vec\n",
        "def create_features(texts, model):\n",
        "    features = []\n",
        "    for text in texts:\n",
        "        tokens = word_tokenize(text.lower())\n",
        "        vectors = [model.wv[token] for token in tokens if token in model.wv]\n",
        "        if vectors:\n",
        "            avg_vector = np.mean(vectors, axis=0)  # Average of vectors\n",
        "            features.append(avg_vector)\n",
        "        else:\n",
        "            features.append(np.zeros(model.vector_size))  # Handle unseen words\n",
        "    return np.array(features)\n"
      ],
      "metadata": {
        "id": "txIzdzk6F_v3"
      },
      "execution_count": 21,
      "outputs": []
    },
    {
      "cell_type": "markdown",
      "source": [
        "Logistic Regression\n"
      ],
      "metadata": {
        "id": "HQU95xJkL-YA"
      }
    },
    {
      "cell_type": "code",
      "source": [
        "# Main execution\n",
        "if __name__ == \"__main__\":\n",
        "    train_directory = \"Medical Speech, Transcription, and Intent/recordings/train\"  # Specify your train directory with audio files\n",
        "    aggregated_transcribed_text = transcribe_all_audio_in_directory(train_directory)\n",
        "\n",
        "    if aggregated_transcribed_text:\n",
        "        # Create labels based on the transcribed text\n",
        "        labels = []\n",
        "        for text in aggregated_transcribed_text:\n",
        "            text_lower = text.lower()  # Convert text to lowercase for consistent matching\n",
        "            if \"blood pressure\" in text_lower:\n",
        "                labels.append(\"blood_pressure\")\n",
        "            elif \"heart rate\" in text_lower:\n",
        "                labels.append(\"heart_rate\")\n",
        "            elif \"temperature\" in text_lower:\n",
        "                labels.append(\"temperature\")\n",
        "            elif \"respiratory rate\" in text_lower:\n",
        "                labels.append(\"respiratory_rate\")\n",
        "            elif \"oxygen saturation\" in text_lower or \"spo2\" in text_lower:\n",
        "                labels.append(\"oxygen_saturation\")\n",
        "            elif \"blood glucose\" in text_lower:\n",
        "                labels.append(\"blood_glucose\")\n",
        "            elif \"weight\" in text_lower:\n",
        "                labels.append(\"weight\")\n",
        "            elif \"height\" in text_lower:\n",
        "                labels.append(\"height\")\n",
        "            elif \"cough\" in text_lower:\n",
        "                labels.append(\"symptom_cough\")\n",
        "            elif \"fever\" in text_lower:\n",
        "                labels.append(\"symptom_fever\")\n",
        "            elif \"nausea\" in text_lower:\n",
        "                labels.append(\"symptom_nausea\")\n",
        "            elif \"vomiting\" in text_lower:\n",
        "                labels.append(\"symptom_vomiting\")\n",
        "            elif \"pain\" in text_lower:\n",
        "                labels.append(\"symptom_pain\")\n",
        "            elif \"fatigue\" in text_lower:\n",
        "                labels.append(\"symptom_fatigue\")\n",
        "            elif \"dizziness\" in text_lower:\n",
        "                labels.append(\"symptom_dizziness\")\n",
        "            elif \"headache\" in text_lower:\n",
        "                labels.append(\"symptom_headache\")\n",
        "            elif \"shortness of breath\" in text_lower:\n",
        "                labels.append(\"symptom_shortness_of_breath\")\n",
        "            elif \"medication\" in text_lower:\n",
        "                labels.append(\"medication\")\n",
        "            elif \"hypertension\" in text_lower:\n",
        "                labels.append(\"hypertension\")\n",
        "            elif \"diabetes\" in text_lower:\n",
        "                labels.append(\"diabetes\")\n",
        "            elif \"asthma\" in text_lower:\n",
        "                labels.append(\"asthma\")\n",
        "            elif \"heart disease\" in text_lower:\n",
        "                labels.append(\"heart_disease\")\n",
        "            elif \"allergies\" in text_lower:\n",
        "                labels.append(\"allergies\")\n",
        "            elif \"infection\" in text_lower:\n",
        "                labels.append(\"infection\")\n",
        "            elif \"stroke\" in text_lower:\n",
        "                labels.append(\"stroke\")\n",
        "            elif \"examination\" in text_lower:\n",
        "                labels.append(\"examination\")\n",
        "            elif \"treatment\" in text_lower:\n",
        "                labels.append(\"treatment\")\n",
        "            elif \"surgery\" in text_lower:\n",
        "                labels.append(\"surgery\")\n",
        "            elif \"therapy\" in text_lower:\n",
        "                labels.append(\"therapy\")\n",
        "            elif \"check-up\" in text_lower:\n",
        "                labels.append(\"checkup\")\n",
        "            elif \"patient id\" in text_lower:\n",
        "                labels.append(\"patient_id\")\n",
        "            elif \"medical history\" in text_lower:\n",
        "                labels.append(\"medical_history\")\n",
        "            elif \"follow-up\" in text_lower:\n",
        "                labels.append(\"follow_up\")\n",
        "            elif \"appointment\" in text_lower:\n",
        "                labels.append(\"appointment\")\n",
        "            elif \"admission\" in text_lower:\n",
        "                labels.append(\"admission\")\n",
        "            elif \"vital signs\" in text_lower:\n",
        "                labels.append(\"vital_signs\")\n",
        "            elif \"medication adherence\" in text_lower:\n",
        "                labels.append(\"medication_adherence\")\n",
        "            elif \"lab results\" in text_lower:\n",
        "                labels.append(\"lab_results\")\n",
        "            elif \"diagnosis\" in text_lower:\n",
        "                labels.append(\"diagnosis\")\n",
        "            elif \"treatment plan\" in text_lower:\n",
        "                labels.append(\"treatment_plan\")\n",
        "            elif \"patient consent\" in text_lower:\n",
        "                labels.append(\"patient_consent\")\n",
        "            elif \"follow-up care\" in text_lower:\n",
        "                labels.append(\"follow_up_care\")\n",
        "            elif \"discharge instructions\" in text_lower:\n",
        "                labels.append(\"discharge_instructions\")\n",
        "            else:\n",
        "                labels.append(\"unknown\")  # Default label if not recognized\n",
        "\n",
        "        # Train Word2Vec model on the aggregated text\n",
        "        word2vec_model = train_word2vec(aggregated_transcribed_text)\n",
        "\n",
        "        # Create features\n",
        "        X = create_features(aggregated_transcribed_text, word2vec_model)\n",
        "        y = labels\n",
        "\n",
        "        # Split data into training and testing sets\n",
        "        X_train, X_test, y_train, y_test = train_test_split(X, y, test_size=0.3, random_state=42)\n",
        "\n",
        "        # Train a logistic regression classifier\n",
        "        classifier = LogisticRegression()\n",
        "        classifier.fit(X_train, y_train)\n",
        "\n",
        "        # Predict and evaluate\n",
        "        y_pred = classifier.predict(X_test)\n",
        "        accuracy = accuracy_score(y_test, y_pred)\n",
        "        print(f\"Classifier Accuracy: {accuracy:.2f}\")\n",
        "    else:\n",
        "        print(\"No transcriptions available.\")"
      ],
      "metadata": {
        "colab": {
          "base_uri": "https://localhost:8080/"
        },
        "id": "lol4KKaWF_sM",
        "outputId": "ef5e89f3-a542-447a-bb35-c6c32ee592b8"
      },
      "execution_count": 22,
      "outputs": [
        {
          "output_type": "stream",
          "name": "stdout",
          "text": [
            "Could not understand audio in Medical Speech, Transcription, and Intent/recordings/train/1249120_44194084_99534522.wav.\n",
            "Could not understand audio in Medical Speech, Transcription, and Intent/recordings/train/1249120_44194084_82467491.wav.\n",
            "Could not understand audio in Medical Speech, Transcription, and Intent/recordings/train/1249120_44174241_12756709.wav.\n",
            "Classifier Accuracy: 0.69\n"
          ]
        }
      ]
    },
    {
      "cell_type": "markdown",
      "source": [
        "Random Forest"
      ],
      "metadata": {
        "id": "c9XGE-PDMBkz"
      }
    },
    {
      "cell_type": "code",
      "source": [
        "from sklearn.ensemble import RandomForestClassifier"
      ],
      "metadata": {
        "id": "-v4Jgxt-GCva"
      },
      "execution_count": 23,
      "outputs": []
    },
    {
      "cell_type": "code",
      "source": [
        "# Main execution\n",
        "if __name__ == \"__main__\":\n",
        "    train_directory = \"Medical Speech, Transcription, and Intent/recordings/train\"\n",
        "    aggregated_transcribed_text = transcribe_all_audio_in_directory(train_directory)\n",
        "\n",
        "    if aggregated_transcribed_text:\n",
        "        # Create labels based on the transcribed text (same as before)\n",
        "\n",
        "        # Train Word2Vec model on the aggregated text\n",
        "        word2vec_model = train_word2vec(aggregated_transcribed_text)\n",
        "\n",
        "        # Create features\n",
        "        X = create_features(aggregated_transcribed_text, word2vec_model)\n",
        "        y = labels\n",
        "\n",
        "        # Split data into training and testing sets\n",
        "        X_train, X_test, y_train, y_test = train_test_split(X, y, test_size=0.3, random_state=42)\n",
        "\n",
        "        # Train a Random Forest classifier\n",
        "        classifier = RandomForestClassifier(n_estimators=100, random_state=42)\n",
        "        classifier.fit(X_train, y_train)\n",
        "\n",
        "        # Predict and evaluate\n",
        "        y_pred = classifier.predict(X_test)\n",
        "        accuracy = accuracy_score(y_test, y_pred)\n",
        "        print(f\"Classifier Accuracy: {accuracy:.2f}\")\n",
        "    else:\n",
        "        print(\"No transcriptions available.\")"
      ],
      "metadata": {
        "colab": {
          "base_uri": "https://localhost:8080/"
        },
        "id": "6OVcnkzOGCrh",
        "outputId": "2da16e2c-039a-4de0-92f7-fad727ec4fcc"
      },
      "execution_count": 24,
      "outputs": [
        {
          "output_type": "stream",
          "name": "stdout",
          "text": [
            "Could not understand audio in Medical Speech, Transcription, and Intent/recordings/train/1249120_44194084_99534522.wav.\n",
            "Could not understand audio in Medical Speech, Transcription, and Intent/recordings/train/1249120_44194084_82467491.wav.\n",
            "Could not understand audio in Medical Speech, Transcription, and Intent/recordings/train/1249120_44174241_12756709.wav.\n",
            "Classifier Accuracy: 0.83\n"
          ]
        }
      ]
    },
    {
      "cell_type": "markdown",
      "source": [
        "Neural Network(Using Keras)\n"
      ],
      "metadata": {
        "id": "liUIl0ydMmvu"
      }
    },
    {
      "cell_type": "markdown",
      "source": [
        "KPI"
      ],
      "metadata": {
        "id": "5T0ijI4uYocS"
      }
    },
    {
      "cell_type": "code",
      "source": [
        "!pip install jiwer"
      ],
      "metadata": {
        "id": "-USmK4IFTF7A",
        "colab": {
          "base_uri": "https://localhost:8080/"
        },
        "outputId": "e0d3c9db-92a8-4195-ee3d-d063567c64eb"
      },
      "execution_count": 28,
      "outputs": [
        {
          "output_type": "stream",
          "name": "stdout",
          "text": [
            "Collecting jiwer\n",
            "  Downloading jiwer-3.0.4-py3-none-any.whl.metadata (2.6 kB)\n",
            "Requirement already satisfied: click<9.0.0,>=8.1.3 in /usr/local/lib/python3.10/dist-packages (from jiwer) (8.1.7)\n",
            "Collecting rapidfuzz<4,>=3 (from jiwer)\n",
            "  Downloading rapidfuzz-3.10.0-cp310-cp310-manylinux_2_17_x86_64.manylinux2014_x86_64.whl.metadata (11 kB)\n",
            "Downloading jiwer-3.0.4-py3-none-any.whl (21 kB)\n",
            "Downloading rapidfuzz-3.10.0-cp310-cp310-manylinux_2_17_x86_64.manylinux2014_x86_64.whl (3.1 MB)\n",
            "\u001b[2K   \u001b[90m━━━━━━━━━━━━━━━━━━━━━━━━━━━━━━━━━━━━━━━━\u001b[0m \u001b[32m3.1/3.1 MB\u001b[0m \u001b[31m34.4 MB/s\u001b[0m eta \u001b[36m0:00:00\u001b[0m\n",
            "\u001b[?25hInstalling collected packages: rapidfuzz, jiwer\n",
            "Successfully installed jiwer-3.0.4 rapidfuzz-3.10.0\n"
          ]
        }
      ]
    },
    {
      "cell_type": "code",
      "source": [
        "import librosa"
      ],
      "metadata": {
        "id": "-WsOyCYMqKB3"
      },
      "execution_count": 31,
      "outputs": []
    },
    {
      "cell_type": "code",
      "source": [
        "import pandas as pd\n",
        "df = pd.read_csv(\"overview-of-recordings.csv\")\n",
        "df.columns"
      ],
      "metadata": {
        "colab": {
          "base_uri": "https://localhost:8080/"
        },
        "id": "mkE7zEcXq_Mw",
        "outputId": "cd24768c-3b85-422b-89df-610cc41da464"
      },
      "execution_count": 39,
      "outputs": [
        {
          "output_type": "execute_result",
          "data": {
            "text/plain": [
              "Index(['audio_clipping', 'audio_clipping:confidence',\n",
              "       'background_noise_audible', 'background_noise_audible:confidence',\n",
              "       'overall_quality_of_the_audio', 'quiet_speaker',\n",
              "       'quiet_speaker:confidence', 'speaker_id', 'file_download', 'file_name',\n",
              "       'phrase', 'prompt', 'writer_id'],\n",
              "      dtype='object')"
            ]
          },
          "metadata": {},
          "execution_count": 39
        }
      ]
    },
    {
      "cell_type": "code",
      "source": [
        "import pandas as pd\n",
        "import numpy as np\n",
        "import jiwer # Import the jiwer module directly\n",
        "import matplotlib.pyplot as plt\n",
        "\n",
        "# Load the data\n",
        "data = pd.read_csv(\"overview-of-recordings.csv\")\n",
        "\n",
        "# Calculate WER and CER\n",
        "def calculate_wer_cer(predicted_phrase, reference_phrase):\n",
        "    # Use jiwer.wer and jiwer.cer directly\n",
        "    wer = jiwer.wer(reference_phrase, predicted_phrase)  # Note the order of arguments\n",
        "    cer = jiwer.cer(reference_phrase, predicted_phrase)  # Note the order of arguments\n",
        "    return wer, cer\n",
        "\n",
        "wer_list = []\n",
        "cer_list = []\n",
        "for index, row in data.iterrows():\n",
        "    wer, cer = calculate_wer_cer(row['audio_clipping'], row['prompt'])\n",
        "    wer_list.append(wer)\n",
        "    cer_list.append(cer)\n",
        "\n",
        "data['WER'] = wer_list\n",
        "data['CER'] = cer_list\n",
        "\n",
        "# Calculate average confidence score\n",
        "average_confidence = data['audio_clipping:confidence'].mean()\n",
        "\n",
        "# Calculate confidence interval\n",
        "confidence_interval = np.std(data['audio_clipping:confidence'])\n",
        "\n",
        "# Calculate overall quality score (assuming a scale of 1-5)\n",
        "overall_quality = data['overall_quality_of_the_audio'].mean()\n",
        "\n",
        "# Visualize WER and CER distribution\n",
        "plt.figure(figsize=(10, 5))\n",
        "plt.hist(data['WER'], bins=20, alpha=0.5, label='WER')\n",
        "plt.hist(data['CER'], bins=20, alpha=0.5, label='CER')\n",
        "plt.xlabel('Error Rate')\n",
        "plt.ylabel('Frequency')\n",
        "plt.legend()\n",
        "plt.title('WER and CER Distribution')\n",
        "plt.show()\n",
        "\n",
        "# Print results\n",
        "print(\"Average Confidence Score:\", average_confidence)\n",
        "print(\"Confidence Interval:\", confidence_interval)\n",
        "print(\"Overall Quality Score:\", overall_quality)"
      ],
      "metadata": {
        "colab": {
          "base_uri": "https://localhost:8080/",
          "height": 539
        },
        "id": "6HOaEulmq_IA",
        "outputId": "d36f1ca8-1865-4e6f-d622-402d66c8b62b"
      },
      "execution_count": 47,
      "outputs": [
        {
          "output_type": "display_data",
          "data": {
            "text/plain": [
              "<Figure size 1000x500 with 1 Axes>"
            ],
            "image/png": "[encoded data removed]"
          },
          "metadata": {}
        },
        {
          "output_type": "stream",
          "name": "stdout",
          "text": [
            "Average Confidence Score: 0.9846254316168743\n",
            "Confidence Interval: 0.07090354868421878\n",
            "Overall Quality Score: 3.678267527398289\n"
          ]
        }
      ]
    },
    {
      "cell_type": "code",
      "source": [
        "import os\n",
        "import speech_recognition as sr\n",
        "import librosa\n",
        "import numpy as np\n",
        "\n",
        "def process_audio_files(audio_folder):\n",
        "    \"\"\"Processes audio files in a given folder.\n",
        "\n",
        "    Args:\n",
        "        audio_folder: Path to the folder containing audio files.\n",
        "    \"\"\"\n",
        "\n",
        "    for filename in os.listdir(audio_folder):\n",
        "        if filename.endswith('.wav'):  # Adjust file extension if needed\n",
        "            file_path = os.path.join(audio_folder, filename)\n",
        "\n",
        "            # Recognize speech\n",
        "            recognizer = sr.Recognizer()\n",
        "            with sr.AudioFile(file_path) as source:\n",
        "                audio = recognizer.record(source)\n",
        "\n",
        "            try:\n",
        "                transcription = recognizer.recognize_google(audio)\n",
        "                print(f\"Transcription for {filename}: {transcription}\")\n",
        "            except sr.UnknownValueError:\n",
        "                print(f\"Google Speech Recognition could not understand audio in {filename}\")\n",
        "            except sr.RequestError as e:\n",
        "                print(f\"Could not request results from Google Speech Recognition service; {e}\")\n",
        "\n",
        "            # Assess audio quality (using librosa features)\n",
        "            audio_data, sample_rate = librosa.load(file_path)\n",
        "            mfcc = librosa.feature.mfcc(y=audio_data, sr=sample_rate)\n",
        "            # Use librosa.feature.rms instead of librosa.feature.rmse\n",
        "            rmse = librosa.feature.rms(y=audio_data)\n",
        "            zcr = librosa.feature.zero_crossing_rate(y=audio_data)\n",
        "\n",
        "            # Assess background noise\n",
        "            noise_energy = np.mean(rmse)\n",
        "            background_noise_level = 10 * np.log10(noise_energy)\n",
        "            print(f\"Background Noise Level (dB) for {filename}: {background_noise_level}\")\n",
        "\n",
        "            # Assess speaker clarity\n",
        "            speaker_clarity = np.mean(zcr)\n",
        "            print(f\"Speaker Clarity for {filename}: {speaker_clarity}\")\n",
        "\n",
        "            # Assess transcription confidence\n",
        "            confidence = recognizer.confidence_score\n",
        "            print(f\"Transcription Confidence for {filename}: {confidence}\")\n",
        "\n",
        "# Example usage\n",
        "audio_folder_path = \"Medical Speech, Transcription, and Intent/recordings/train\"\n",
        "process_audio_files(audio_folder_path)"
      ],
      "metadata": {
        "colab": {
          "base_uri": "https://localhost:8080/",
          "height": 349
        },
        "id": "v8PEKylWuOHI",
        "outputId": "3ab76a42-3b4e-4642-f7c6-a806df52afb5"
      },
      "execution_count": 49,
      "outputs": [
        {
          "output_type": "stream",
          "name": "stdout",
          "text": [
            "Transcription for 1249120_44220382_75303599.wav: my son squeezed a pimple and it broke open only to scab over and now looks like it is infected\n",
            "Background Noise Level (dB) for 1249120_44220382_75303599.wav: -20.196759700775146\n",
            "Speaker Clarity for 1249120_44220382_75303599.wav: 0.2116653154481132\n"
          ]
        },
        {
          "output_type": "error",
          "ename": "AttributeError",
          "evalue": "'Recognizer' object has no attribute 'confidence_score'",
          "traceback": [
            "\u001b[0;31m---------------------------------------------------------------------------\u001b[0m",
            "\u001b[0;31mAttributeError\u001b[0m                            Traceback (most recent call last)",
            "\u001b[0;32m<ipython-input-49-6e3e4b3f548b>\u001b[0m in \u001b[0;36m<cell line: 52>\u001b[0;34m()\u001b[0m\n\u001b[1;32m     50\u001b[0m \u001b[0;31m# Example usage\u001b[0m\u001b[0;34m\u001b[0m\u001b[0;34m\u001b[0m\u001b[0m\n\u001b[1;32m     51\u001b[0m \u001b[0maudio_folder_path\u001b[0m \u001b[0;34m=\u001b[0m \u001b[0;34m\"Medical Speech, Transcription, and Intent/recordings/train\"\u001b[0m\u001b[0;34m\u001b[0m\u001b[0;34m\u001b[0m\u001b[0m\n\u001b[0;32m---> 52\u001b[0;31m \u001b[0mprocess_audio_files\u001b[0m\u001b[0;34m(\u001b[0m\u001b[0maudio_folder_path\u001b[0m\u001b[0;34m)\u001b[0m\u001b[0;34m\u001b[0m\u001b[0;34m\u001b[0m\u001b[0m\n\u001b[0m",
            "\u001b[0;32m<ipython-input-49-6e3e4b3f548b>\u001b[0m in \u001b[0;36mprocess_audio_files\u001b[0;34m(audio_folder)\u001b[0m\n\u001b[1;32m     45\u001b[0m \u001b[0;34m\u001b[0m\u001b[0m\n\u001b[1;32m     46\u001b[0m             \u001b[0;31m# Assess transcription confidence\u001b[0m\u001b[0;34m\u001b[0m\u001b[0;34m\u001b[0m\u001b[0m\n\u001b[0;32m---> 47\u001b[0;31m             \u001b[0mconfidence\u001b[0m \u001b[0;34m=\u001b[0m \u001b[0mrecognizer\u001b[0m\u001b[0;34m.\u001b[0m\u001b[0mconfidence_score\u001b[0m\u001b[0;34m\u001b[0m\u001b[0;34m\u001b[0m\u001b[0m\n\u001b[0m\u001b[1;32m     48\u001b[0m             \u001b[0mprint\u001b[0m\u001b[0;34m(\u001b[0m\u001b[0;34mf\"Transcription Confidence for {filename}: {confidence}\"\u001b[0m\u001b[0;34m)\u001b[0m\u001b[0;34m\u001b[0m\u001b[0;34m\u001b[0m\u001b[0m\n\u001b[1;32m     49\u001b[0m \u001b[0;34m\u001b[0m\u001b[0m\n",
            "\u001b[0;31mAttributeError\u001b[0m: 'Recognizer' object has no attribute 'confidence_score'"
          ]
        }
      ]
    },
    {
      "cell_type": "code",
      "source": [
        "import speech_recognition as sr\n",
        "import os\n",
        "import speech_recognition as sr\n",
        "import librosa\n",
        "import numpy as np\n",
        "\n",
        "def process_audio_files(audio_folder):\n",
        "    \"\"\"Processes audio files in a given folder and calculates KPIs.\n",
        "\n",
        "    Args:\n",
        "        audio_folder: Path to the folder containing audio files.\n",
        "\n",
        "    Returns:\n",
        "        A dictionary containing average scores for background noise,\n",
        "        speaker clarity, and transcription confidence.\n",
        "    \"\"\"\n",
        "\n",
        "    background_noise_levels = []\n",
        "    speaker_clarities = []\n",
        "    transcription_confidences = []\n",
        "\n",
        "    for filename in os.listdir(audio_folder):\n",
        "        if filename.endswith('.wav'):  # Adjust file extension if needed\n",
        "            file_path = os.path.join(audio_folder, filename)\n",
        "\n",
        "            # Recognize speech\n",
        "            recognizer = sr.Recognizer()\n",
        "            with sr.AudioFile(file_path) as source:\n",
        "                audio = recognizer.record(source)\n",
        "\n",
        "            try:\n",
        "                # Pass show_all=True to get the confidence score\n",
        "                result = recognizer.recognize_google(audio, show_all=True)\n",
        "\n",
        "                # Check if result is a dictionary and contains 'alternative' key\n",
        "                if isinstance(result, dict) and 'alternative' in result:\n",
        "                    transcription = result['alternative'][0]['transcript']\n",
        "                    confidence = result['alternative'][0]['confidence']  # Access confidence score from the dictionary\n",
        "                    transcription_confidences.append(confidence)\n",
        "                    #print(f\"Transcription for {filename}: {transcription}\") # Removed individual file print\n",
        "                    #print(f\"Transcription Confidence for {filename}: {confidence}\") # Removed individual file print\n",
        "                else:\n",
        "                    print(f\"Google Speech Recognition did not return confidence score for {filename}\")\n",
        "            except sr.UnknownValueError:\n",
        "                print(f\"Google Speech Recognition could not understand audio in {filename}\")\n",
        "            except sr.RequestError as e:\n",
        "                print(f\"Could not request results from Google Speech Recognition service; {e}\")\n",
        "\n",
        "            # Assess audio quality (using librosa features)\n",
        "            audio_data, sample_rate = librosa.load(file_path)\n",
        "            # Use librosa.feature.rms instead of librosa.feature.rmse\n",
        "            rmse = librosa.feature.rms(y=audio_data)\n",
        "            zcr = librosa.feature.zero_crossing_rate(y=audio_data)\n",
        "\n",
        "            # Assess background noise\n",
        "            noise_energy = np.mean(rmse)\n",
        "            background_noise_level = 10 * np.log10(noise_energy)\n",
        "            background_noise_levels.append(background_noise_level)\n",
        "            #print(f\"Background Noise Level (dB) for {filename}: {background_noise_level}\") # Removed individual file print\n",
        "\n",
        "            # Assess speaker clarity\n",
        "            speaker_clarity = np.mean(zcr)\n",
        "            speaker_clarities.append(speaker_clarity)\n",
        "            #print(f\"Speaker Clarity for {filename}: {speaker_clarity}\") # Removed individual file print\n",
        "\n",
        "    # Calculate and return average scores\n",
        "    avg_background_noise = np.mean(background_noise_levels)\n",
        "    avg_speaker_clarity = np.mean(speaker_clarities)\n",
        "    avg_transcription_confidence = np.mean(transcription_confidences)\n",
        "\n",
        "    return {\n",
        "        \"background_noise\": avg_background_noise,\n",
        "        \"speaker_clarity\": avg_speaker_clarity,\n",
        "        \"transcription_confidence\": avg_transcription_confidence\n",
        "    }\n",
        "\n",
        "# Example usage\n",
        "audio_folder_path = \"Medical Speech, Transcription, and Intent/recordings/train\"\n",
        "results = process_audio_files(audio_folder_path)\n",
        "\n",
        "# Print the overall results\n",
        "print(\"Overall Results:\")\n",
        "print(f\"Average Background Noise Level (dB): {results['background_noise']}\")\n",
        "print(f\"Average Speaker Clarity: {results['speaker_clarity']}\")\n",
        "print(f\"Average Transcription Confidence: {results['transcription_confidence']}\")"
      ],
      "metadata": {
        "colab": {
          "base_uri": "https://localhost:8080/"
        },
        "id": "6DMfbAw2wBFC",
        "outputId": "1858251e-7c64-4a56-8920-54b442dcb381"
      },
      "execution_count": 51,
      "outputs": [
        {
          "output_type": "stream",
          "name": "stdout",
          "text": [
            "Google Speech Recognition could not understand audio in 1249120_44194084_99534522.wav\n",
            "Google Speech Recognition could not understand audio in 1249120_44194084_82467491.wav\n",
            "Google Speech Recognition could not understand audio in 1249120_44174241_12756709.wav\n",
            "Overall Results:\n",
            "Average Background Noise Level (dB): -16.030014556223954\n",
            "Average Speaker Clarity: 0.1485013134166854\n",
            "Average Transcription Confidence: 0.9060341658201057\n"
          ]
        }
      ]
    },
    {
      "cell_type": "code",
      "source": [],
      "metadata": {
        "id": "JnbazclRvxxI"
      },
      "execution_count": null,
      "outputs": []
    }
  ]
}