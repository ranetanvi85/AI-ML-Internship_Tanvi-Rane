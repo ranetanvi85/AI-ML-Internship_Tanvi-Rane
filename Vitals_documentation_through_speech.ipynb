{
  "nbformat": 4,
  "nbformat_minor": 0,
  "metadata": {
    "colab": {
      "provenance": []
    },
    "kernelspec": {
      "name": "python3",
      "display_name": "Python 3"
    },
    "language_info": {
      "name": "python"
    }
  },
  "cells": [
    {
      "cell_type": "code",
      "source": [
        "!pip install SpeechRecognition\n",
        "!pip install python-docx"
      ],
      "metadata": {
        "colab": {
          "base_uri": "https://localhost:8080/"
        },
        "id": "_WwM2CQieyrR",
        "outputId": "fe51d0d6-d9c1-495a-86f3-0965dd41e2ab"
      },
      "execution_count": 3,
      "outputs": [
        {
          "output_type": "stream",
          "name": "stdout",
          "text": [
            "Collecting SpeechRecognition\n",
            "  Downloading SpeechRecognition-3.11.0-py2.py3-none-any.whl.metadata (28 kB)\n",
            "Requirement already satisfied: requests>=2.26.0 in /usr/local/lib/python3.10/dist-packages (from SpeechRecognition) (2.32.3)\n",
            "Requirement already satisfied: typing-extensions in /usr/local/lib/python3.10/dist-packages (from SpeechRecognition) (4.12.2)\n",
            "Requirement already satisfied: charset-normalizer<4,>=2 in /usr/local/lib/python3.10/dist-packages (from requests>=2.26.0->SpeechRecognition) (3.4.0)\n",
            "Requirement already satisfied: idna<4,>=2.5 in /usr/local/lib/python3.10/dist-packages (from requests>=2.26.0->SpeechRecognition) (3.10)\n",
            "Requirement already satisfied: urllib3<3,>=1.21.1 in /usr/local/lib/python3.10/dist-packages (from requests>=2.26.0->SpeechRecognition) (2.2.3)\n",
            "Requirement already satisfied: certifi>=2017.4.17 in /usr/local/lib/python3.10/dist-packages (from requests>=2.26.0->SpeechRecognition) (2024.8.30)\n",
            "Downloading SpeechRecognition-3.11.0-py2.py3-none-any.whl (32.8 MB)\n",
            "\u001b[2K   \u001b[90m━━━━━━━━━━━━━━━━━━━━━━━━━━━━━━━━━━━━━━━━\u001b[0m \u001b[32m32.8/32.8 MB\u001b[0m \u001b[31m35.1 MB/s\u001b[0m eta \u001b[36m0:00:00\u001b[0m\n",
            "\u001b[?25hInstalling collected packages: SpeechRecognition\n",
            "Successfully installed SpeechRecognition-3.11.0\n",
            "Collecting python-docx\n",
            "  Downloading python_docx-1.1.2-py3-none-any.whl.metadata (2.0 kB)\n",
            "Requirement already satisfied: lxml>=3.1.0 in /usr/local/lib/python3.10/dist-packages (from python-docx) (4.9.4)\n",
            "Requirement already satisfied: typing-extensions>=4.9.0 in /usr/local/lib/python3.10/dist-packages (from python-docx) (4.12.2)\n",
            "Downloading python_docx-1.1.2-py3-none-any.whl (244 kB)\n",
            "\u001b[2K   \u001b[90m━━━━━━━━━━━━━━━━━━━━━━━━━━━━━━━━━━━━━━━━\u001b[0m \u001b[32m244.3/244.3 kB\u001b[0m \u001b[31m3.8 MB/s\u001b[0m eta \u001b[36m0:00:00\u001b[0m\n",
            "\u001b[?25hInstalling collected packages: python-docx\n",
            "Successfully installed python-docx-1.1.2\n"
          ]
        }
      ]
    },
    {
      "cell_type": "code",
      "source": [
        "###########################################################################################\n",
        "\n",
        "import speech_recognition as sr\n",
        "import re\n",
        "from docx import Document\n",
        "\n",
        "def create_medical_document_with_table(vitals_data, patient_name=\"Mr. Stefan\"):\n",
        "    # Initialize the Document\n",
        "    document = Document()\n",
        "\n",
        "    # Title of the Document\n",
        "    document.add_heading(f'Patient Vitals Report for {patient_name}', level=1)\n",
        "    document.add_paragraph(\"This report provides an overview of patient vitals, monitoring status, and recommendations.\\n\")\n",
        "\n",
        "    # Add Table with headers\n",
        "    table = document.add_table(rows=1, cols=3)\n",
        "    hdr_cells = table.rows[0].cells\n",
        "    hdr_cells[0].text = 'Vital Sign'\n",
        "    hdr_cells[1].text = 'Value'\n",
        "    hdr_cells[2].text = 'Notes'  # Added Notes column for better documentation\n",
        "\n",
        "    # Populate the table with vitals data\n",
        "    for vital, value, notes in vitals_data:\n",
        "        row_cells = table.add_row().cells\n",
        "        row_cells[0].text = vital\n",
        "        row_cells[1].text = value\n",
        "        row_cells[2].text = notes  # Populate Notes column\n",
        "\n",
        "    # Add a closing note\n",
        "    document.add_paragraph(\"\\nConclusion: All vitals are stable with no immediate concern. Regular monitoring is advised.\")\n",
        "\n",
        "    # Save the document\n",
        "    file_name = f\"{patient_name.replace(' ', '_')}_Vitals_Report.docx\"\n",
        "    document.save(file_name)\n",
        "\n",
        "    print(f\"Medical document created and saved as '{file_name}'.\")\n",
        "\n",
        "def extract_vitals_from_audio(audio_file):\n",
        "    recognizer = sr.Recognizer()\n",
        "    vitals_data = []\n",
        "\n",
        "    with sr.AudioFile(audio_file) as source:\n",
        "        audio = recognizer.record(source)  # Read the entire audio file\n",
        "\n",
        "    try:\n",
        "        # Transcribe audio to text\n",
        "        transcribed_text = recognizer.recognize_google(audio)\n",
        "        print(\"Transcribed Text:\", transcribed_text)  # Print the transcribed text for debugging\n",
        "\n",
        "        # Define regex patterns for extracting vitals\n",
        "        vitals_mapping = {\n",
        "            \"Blood Pressure(mm Hg)\": r\"blood pressure.*?(\\d+ over \\d+ mmHg|\\d+/\\d+ mm Hg)\",\n",
        "            \"Heart Rate(bpm)\": r\"heart rate.*?(\\d+) bpm\",\n",
        "            \"Respiratory Rate(breaths per minute)\": r\"respiratory rate.*?(\\d+) breaths per minute\",\n",
        "            \"Core Body Temperature(degrees Fahrenheit)\": r\"core body temperature.*?(\\d+\\.\\d+) degrees Fahrenheit\"\n",
        "        }\n",
        "\n",
        "        # Match the regex patterns to extract values\n",
        "        for vital, pattern in vitals_mapping.items():\n",
        "            match = re.search(pattern, transcribed_text, re.IGNORECASE)  # Use re.IGNORECASE for case-insensitivity\n",
        "            if match:\n",
        "                value = match.group(1)  # Extract the matched value\n",
        "                notes = \"Value extracted from audio\"  # Customize notes as needed\n",
        "                vitals_data.append((vital, value, notes))\n",
        "            else:\n",
        "                # If a vital sign is not found, add a default entry\n",
        "                vitals_data.append((vital, \"Not recorded\", \"No data extracted\"))\n",
        "\n",
        "    except sr.UnknownValueError:\n",
        "        print(\"Could not understand the audio.\")\n",
        "    except sr.RequestError as e:\n",
        "        print(f\"Could not request results from the speech recognition service; {e}\")\n",
        "\n",
        "    return vitals_data\n",
        "\n",
        "# Specify the audio file path\n",
        "audio_file_path = \"vitals_1.wav\"  # Replace with your audio file path\n",
        "\n",
        "# Extract vitals from audio\n",
        "vitals_data = extract_vitals_from_audio(audio_file_path)\n",
        "\n",
        "# Create the document with extracted vitals\n",
        "create_medical_document_with_table(vitals_data)\n"
      ],
      "metadata": {
        "colab": {
          "base_uri": "https://localhost:8080/"
        },
        "id": "fJB8pC865q4L",
        "outputId": "1af01ea4-7669-4680-aaf9-c1ffbf1e3bda"
      },
      "execution_count": 4,
      "outputs": [
        {
          "output_type": "stream",
          "name": "stdout",
          "text": [
            "Transcribed Text: the blood pressure is 120 over 80 mmhg the heart rate is 72 BPM the respiratory rate is 18 the core body temperature is 98.6 degrees Fahrenheit\n",
            "Medical document created and saved as 'Mr._Stefan_Vitals_Report.docx'.\n"
          ]
        }
      ]
    },
    {
      "cell_type": "code",
      "source": [
        "###########################################################################################\n",
        "###########################################################################################\n",
        "\n",
        "\n",
        "import speech_recognition as sr\n",
        "import re\n",
        "from docx import Document\n",
        "\n",
        "def create_medical_document_with_table(vitals_data, patient_name=\"Ms. Elena\"):\n",
        "    # Initialize the Document\n",
        "    document = Document()\n",
        "\n",
        "    # Title of the Document\n",
        "    document.add_heading(f'Patient Vitals Report for {patient_name}', level=1)\n",
        "    document.add_paragraph(\"This report provides an overview of patient vitals, monitoring status, and recommendations.\\n\")\n",
        "\n",
        "    # Add Table with headers\n",
        "    table = document.add_table(rows=1, cols=3)\n",
        "    hdr_cells = table.rows[0].cells\n",
        "    hdr_cells[0].text = 'Vital Sign'\n",
        "    hdr_cells[1].text = 'Value'\n",
        "\n",
        "    # Populate the table with vitals data\n",
        "    for vital, value, notes in vitals_data:\n",
        "        row_cells = table.add_row().cells\n",
        "        row_cells[0].text = vital\n",
        "        row_cells[1].text = value\n",
        "\n",
        "    # Add a closing note\n",
        "    document.add_paragraph(\"\\nConclusion: All vitals are stable with no immediate concern. Regular monitoring is advised.\")\n",
        "\n",
        "    # Save the document\n",
        "    file_name = f\"{patient_name.replace(' ', '_')}_Vitals_Report.docx\"\n",
        "    document.save(file_name)\n",
        "\n",
        "    print(f\"Medical document created and saved as '{file_name}'.\")\n",
        "\n",
        "def extract_vitals_from_audio(audio_file):\n",
        "    recognizer = sr.Recognizer()\n",
        "    vitals_data = []\n",
        "\n",
        "    with sr.AudioFile(audio_file) as source:\n",
        "        audio = recognizer.record(source)  # Read the entire audio file\n",
        "\n",
        "    try:\n",
        "        # Transcribe audio to text\n",
        "        transcribed_text = recognizer.recognize_google(audio)\n",
        "        print(\"Transcribed Text:\", transcribed_text)  # Print the transcribed text for debugging\n",
        "\n",
        "        # Define regex patterns for extracting vitals\n",
        "        vitals_mapping = {\n",
        "            \"Blood Pressure(mm Hg)\": r\"blood pressure.*?(\\d+ over \\d+ mmHg|\\d+/\\d+ mm Hg)\",\n",
        "            \"Heart Rate(bpm)\": r\"heart rate.*?(\\d+) bpm\",\n",
        "            \"Respiratory Rate(breaths per minute)\": r\"respiratory rate.*?(\\d+) breaths per minute\",\n",
        "            \"Core Body Temperature(degrees Fahrenheit)\": r\"core body temperature.*?(\\d+\\.\\d+) degrees Fahrenheit\"\n",
        "        }\n",
        "\n",
        "        # Match the regex patterns to extract values\n",
        "        for vital, pattern in vitals_mapping.items():\n",
        "            match = re.search(pattern, transcribed_text, re.IGNORECASE)  # Use re.IGNORECASE for case-insensitivity\n",
        "            if match:\n",
        "                value = match.group(1)  # Extract the matched value\n",
        "                notes = \"Value extracted from audio\"  # Customize notes as needed\n",
        "                vitals_data.append((vital, value, notes))\n",
        "            else:\n",
        "                # If a vital sign is not found, add a default entry\n",
        "                vitals_data.append((vital, \"Not recorded\", \"No data extracted\"))\n",
        "\n",
        "    except sr.UnknownValueError:\n",
        "        print(\"Could not understand the audio.\")\n",
        "    except sr.RequestError as e:\n",
        "        print(f\"Could not request results from the speech recognition service; {e}\")\n",
        "\n",
        "    return vitals_data\n",
        "\n",
        "# Specify the audio file path\n",
        "audio_file_path = \"vitals_2.wav\"  # Replace with your audio file path\n",
        "\n",
        "# Extract vitals from audio\n",
        "vitals_data = extract_vitals_from_audio(audio_file_path)\n",
        "\n",
        "# Create the document with extracted vitals\n",
        "create_medical_document_with_table(vitals_data)\n"
      ],
      "metadata": {
        "colab": {
          "base_uri": "https://localhost:8080/"
        },
        "id": "S3yMHRB1628O",
        "outputId": "89201839-91a3-4970-a84f-4b70effd6899"
      },
      "execution_count": 5,
      "outputs": [
        {
          "output_type": "stream",
          "name": "stdout",
          "text": [
            "Transcribed Text: the blood pressure is 130 over 85 mmhg the heart rate is 75 BPM the respiratory rate is 16 the core body temperature is 98.4 degrees Fahrenheit\n",
            "Medical document created and saved as 'Ms._Elena_Vitals_Report.docx'.\n"
          ]
        }
      ]
    }
  ]
}